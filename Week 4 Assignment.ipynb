{
 "cells": [
  {
   "cell_type": "markdown",
   "metadata": {},
   "source": [
    "## Introduction/Business Problem"
   ]
  },
  {
   "cell_type": "markdown",
   "metadata": {},
   "source": [
    "#### The problem is in which neighborhood of New York should I choose to open a new Japanese restaurant.\n",
    "\n",
    "There are already a lot of Japanese restaurant opened throughout New York. If I randomly select a neighborhood to start the business, I might fail to make any profits due to the facts that there might be not enough Japanese food lovers to support the restaurant or the residents of the neighborhood could not afford the price of comparatively expensive sushi/sashimi. However, the restaurant should not be located at neighborhood with many Japanese restaurants either since the competitions there are already drastic enough. Even there are enough customers and people could afford the price, they might have their favorite Japanese place already and are unwilling to try somewhere else."
   ]
  },
  {
   "cell_type": "markdown",
   "metadata": {},
   "source": [
    "## Data"
   ]
  },
  {
   "cell_type": "markdown",
   "metadata": {},
   "source": [
    "To find a solution of the above problem, I would like to first find similar neighborhoods in New York and group them into clusters with the venue category data acquired through Foursquare API and KNN machine learning package. Then, I would like to find the cluster with the most Japanese restaurants opened. For each neighborhood in the cluster, I will request Foursquare API again for the ratings of each Japanese restaurant and get an average rating. Finally, I will rank the neighborhoods by the number of Japanese restaurants (higher ranking for less restaurants) and the average rating (higher ranking for lower rating). I will try to find a place in the neighborhood(s) with the highest overall ranking to open my new Japanese restaurant."
   ]
  }
 ],
 "metadata": {
  "kernelspec": {
   "display_name": "Python 3",
   "language": "python",
   "name": "python3"
  },
  "language_info": {
   "codemirror_mode": {
    "name": "ipython",
    "version": 3
   },
   "file_extension": ".py",
   "mimetype": "text/x-python",
   "name": "python",
   "nbconvert_exporter": "python",
   "pygments_lexer": "ipython3",
   "version": "3.6.4"
  }
 },
 "nbformat": 4,
 "nbformat_minor": 2
}
